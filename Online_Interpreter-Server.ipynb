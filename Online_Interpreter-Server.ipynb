{
 "cells": [
  {
   "cell_type": "code",
   "execution_count": null,
   "metadata": {},
   "outputs": [
    {
     "name": "stdout",
     "output_type": "stream",
     "text": [
      "Server connected by ('10.107.135.59', 55707)\n"
     ]
    }
   ],
   "source": [
    "from socket import *\n",
    "from os import popen\n",
    "myHost = ''\n",
    "myPort = 50008\n",
    "n=5\n",
    "\n",
    "sockobj = socket(AF_INET, SOCK_STREAM) \n",
    "sockobj.bind((myHost, myPort)) \n",
    "sockobj.listen(n) \n",
    "\n",
    "while True: \n",
    "    connection, address = sockobj.accept() \n",
    "    print('Server connected by', address)\n",
    "    while True:\n",
    "        codes = connection.recv(9999).decode()\n",
    "        if not codes: break\n",
    "        with open('temp.py','w') as f:\n",
    "            f.write(codes)\n",
    "        output = popen('python temp.py')\n",
    "        connection.send(output.read().encode())\n",
    "connection.close()"
   ]
  }
 ],
 "metadata": {
  "kernelspec": {
   "display_name": "Python 3",
   "language": "python",
   "name": "python3"
  },
  "language_info": {
   "codemirror_mode": {
    "name": "ipython",
    "version": 3
   },
   "file_extension": ".py",
   "mimetype": "text/x-python",
   "name": "python",
   "nbconvert_exporter": "python",
   "pygments_lexer": "ipython3",
   "version": "3.6.8"
  }
 },
 "nbformat": 4,
 "nbformat_minor": 4
}
