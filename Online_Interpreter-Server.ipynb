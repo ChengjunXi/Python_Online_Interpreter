{
 "cells": [
  {
   "cell_type": "code",
   "execution_count": null,
   "metadata": {},
   "outputs": [
    {
     "name": "stdout",
     "output_type": "stream",
     "text": [
      "Server connected by ('127.0.0.1', 55367)\n"
     ]
    }
   ],
   "source": [
    "from socket import *\n",
    "from os import popen\n",
    "myHost = '127.0.0.1'\n",
    "myPort = 50008\n",
    "n=5\n",
    "\n",
    "sockobj = socket(AF_INET, SOCK_STREAM) \n",
    "sockobj.bind((myHost, myPort)) \n",
    "sockobj.listen(n) \n",
    "\n",
    "while True: \n",
    "    connection, address = sockobj.accept() \n",
    "    print('Server connected by', address)\n",
    "    while True:\n",
    "        codes = connection.recv(9999).decode()\n",
    "        if not codes: break\n",
    "        with open('temp.py','w') as f:\n",
    "            f.write(codes)\n",
    "        output = popen('python temp.py')\n",
    "        connection.send(output.read().encode())\n",
    "connection.close()"
   ]
  }
 ],
 "metadata": {
  "kernelspec": {
   "display_name": "Python 3 (ipykernel)",
   "language": "python",
   "name": "python3"
  },
  "language_info": {
   "codemirror_mode": {
    "name": "ipython",
    "version": 3
   },
   "file_extension": ".py",
   "mimetype": "text/x-python",
   "name": "python",
   "nbconvert_exporter": "python",
   "pygments_lexer": "ipython3",
   "version": "3.9.7"
  }
 },
 "nbformat": 4,
 "nbformat_minor": 4
}
