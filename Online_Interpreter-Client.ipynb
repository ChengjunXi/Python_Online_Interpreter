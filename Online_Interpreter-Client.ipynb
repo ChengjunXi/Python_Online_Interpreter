{
 "cells": [
  {
   "cell_type": "code",
   "execution_count": 1,
   "metadata": {},
   "outputs": [
    {
     "name": "stdout",
     "output_type": "stream",
     "text": [
      "Hello\n",
      "\n"
     ]
    }
   ],
   "source": [
    "from socket import * \n",
    "\n",
    "serverHost = '127.0.0.1'\n",
    "serverPort = 50008\n",
    "\n",
    "# message = b'Hello network world'\n",
    "with open('codes.py','r') as f:\n",
    "    message = f.read().encode()\n",
    "\n",
    "sockobj = socket(AF_INET, SOCK_STREAM)\n",
    "sockobj.connect((serverHost, serverPort))\n",
    "sockobj.send(message)\n",
    "response = sockobj.recv(9999).decode()\n",
    "print(response) \n",
    "\n",
    "sockobj.close()"
   ]
  }
 ],
 "metadata": {
  "kernelspec": {
   "display_name": "Python 3 (ipykernel)",
   "language": "python",
   "name": "python3"
  },
  "language_info": {
   "codemirror_mode": {
    "name": "ipython",
    "version": 3
   },
   "file_extension": ".py",
   "mimetype": "text/x-python",
   "name": "python",
   "nbconvert_exporter": "python",
   "pygments_lexer": "ipython3",
   "version": "3.9.7"
  }
 },
 "nbformat": 4,
 "nbformat_minor": 4
}
